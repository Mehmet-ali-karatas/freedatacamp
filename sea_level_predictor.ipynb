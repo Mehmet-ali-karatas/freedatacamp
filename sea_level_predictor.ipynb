{
 "cells": [
  {
   "cell_type": "code",
   "execution_count": null,
   "id": "22413164",
   "metadata": {},
   "outputs": [],
   "source": [
    "import pandas as pd\n",
    "import matplotlib.pyplot as plt\n",
    "from scipy.stats import linregress\n",
    "\n",
    "def draw_plot():\n",
    "    # Read data from file\n",
    "    df = pd.read_csv(\"epa-sea-level.csv\")\n",
    "\n",
    "    # Create scatter plot\n",
    "    fig, ax = plt.subplots(figsize=(10, 10))\n",
    "    df.plot(x=\"Year\", y=\"CSIRO Adjusted Sea Level\", kind=\"scatter\")\n",
    "\n",
    "    # Create first line of best fit\n",
    "    x1 = range(df[\"Year\"].iloc[0], 2050, 1)\n",
    "    slope, intercept, r_value, p_value, std_err = linregress(df[\"Year\"], df[\"CSIRO Adjusted Sea Level\"])\n",
    "    plt.plot(x1, intercept + slope*x1, 'r', label='fitted line 1')\n",
    "    # Create second line of best fit\n",
    "    x_ = range(2000, df[\"Year\"].iloc[-1]+1, 1)\n",
    "    slope, intercept, r_value, p_value, std_err = linregress(x_, df[-len(x_):][\"CSIRO Adjusted Sea Level\"])\n",
    "    x2 = range(2000, 2050, 1)\n",
    "    plt.plot(x2, intercept + slope*x2, 'r', label='fitted line 2')\n",
    "    # Add labels and title\n",
    "    plt.title(\"Rise in Sea Level\")\n",
    "    plt.xlabel(\"Year\")\n",
    "    plt.ylabel(\"Sea Level (inches)\")\n",
    "    \n",
    "    # Save plot and return data for testing (DO NOT MODIFY)\n",
    "    plt.savefig('sea_level_plot.png')\n",
    "    return plt.gca()"
   ]
  }
 ],
 "metadata": {
  "kernelspec": {
   "display_name": "Python 3 (ipykernel)",
   "language": "python",
   "name": "python3"
  },
  "language_info": {
   "codemirror_mode": {
    "name": "ipython",
    "version": 3
   },
   "file_extension": ".py",
   "mimetype": "text/x-python",
   "name": "python",
   "nbconvert_exporter": "python",
   "pygments_lexer": "ipython3",
   "version": "3.9.12"
  }
 },
 "nbformat": 4,
 "nbformat_minor": 5
}
